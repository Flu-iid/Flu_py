{
 "cells": [
  {
   "attachments": {},
   "cell_type": "markdown",
   "metadata": {
    "tags": []
   },
   "source": [
    "# 0.1"
   ]
  },
  {
   "attachments": {},
   "cell_type": "markdown",
   "metadata": {},
   "source": [
    "## cumputation theory areas\n",
    "+ Complexity\n",
    "> sorted by computation difficulty\n",
    "> * root of complexity\n",
    "> * settle less than perfect\n",
    "> * only some situation hard and most easy, e.g. randomize\n",
    "+ Computibility\n",
    "> solvable or not\n",
    "> very close to complexity\n",
    "    Gödel-church-turing math statement problems\n",
    "+ Automata\n",
    "> definition & properties of math model in computation\n",
    "like finite automaton\n"
   ]
  },
  {
   "attachments": {},
   "cell_type": "markdown",
   "metadata": {},
   "source": [
    "# 0.2 math notations & terminology"
   ]
  },
  {
   "attachments": {},
   "cell_type": "markdown",
   "metadata": {},
   "source": [
    "set {}\n",
    "> no order, it can have repetition ({2,3,4,4,4} = {2,3,4})\n",
    "\n",
    "7 ∈ {7, 21, 57}\\\n",
    "A ⊆ B subset\\\n",
    "A ⊊ B proper subset\n",
    "> in **multi-set** repetition matters\n",
    "\n",
    "N natural numbers\\\n",
    "Z integers\n",
    "> * set with zero member = empty set ∅\n",
    "> * set with one member = singleton set\n",
    "> * set with two member = unordered pair\n",
    "\n",
    "A ∩ B Union\\\n",
    "A ∩ B Intersection\\\n",
    "A ∆ B Symmetric difference\\\n",
    "Ā Complement of A (all elements that are not in A)\\"
   ]
  },
  {
   "cell_type": "code",
   "execution_count": 1,
   "metadata": {},
   "outputs": [
    {
     "data": {
      "text/plain": [
       "{1, 4}"
      ]
     },
     "execution_count": 1,
     "metadata": {},
     "output_type": "execute_result"
    }
   ],
   "source": [
    "# A ∩ B\n",
    "A = {1,2,3,4}\n",
    "B = {2,3}\n",
    "A.difference(B)"
   ]
  },
  {
   "attachments": {},
   "cell_type": "markdown",
   "metadata": {},
   "source": [
    "Venn Diagram\n",
    "\n",
    "![alt ven_diagram](./theory-of-computation/Venn_diagram.png)"
   ]
  },
  {
   "attachments": {},
   "cell_type": "markdown",
   "metadata": {},
   "source": [
    "# 0.3 sequences & tuples"
   ]
  },
  {
   "attachments": {},
   "cell_type": "markdown",
   "metadata": {},
   "source": [
    "in sequences repetition and order matters\\\n",
    "***finite sequences are called Tuples***\\\n",
    "k-tuples = (--k elements--)\\\n",
    "2-tuple ordered pair\\\n",
    "\n",
    "**powerset**\\\n",
    "if set is {0,1}\\\n",
    "powerset will be {∅, {0}, {1}, {0,1}}\\\n",
    "\n",
    "**cross product or Cartesian product**\\\n",
    "A, B = {0,1} , {2, 3}\\\n",
    "A ⅹ B = {(0, 2), (0, 3), (1, 2), (1, 3)}"
   ]
  },
  {
   "cell_type": "code",
   "execution_count": 3,
   "metadata": {},
   "outputs": [
    {
     "data": {
      "text/plain": [
       "{(0, 2), (0, 3), (1, 2), (1, 3)}"
      ]
     },
     "execution_count": 3,
     "metadata": {},
     "output_type": "execute_result"
    }
   ],
   "source": [
    "A, B = {0,1} , {2, 3}\n",
    "AxB = {(a, b) for a in A for b in B}\n",
    "AxB"
   ]
  },
  {
   "attachments": {},
   "cell_type": "markdown",
   "metadata": {},
   "source": [
    "+ (k-cartesian products) A ⅹ A ⅹ ... ⅹ A = A ^ k (k-tuple elements)\\\n",
    "+ N ^ 2 = N ⅹ N = {(i, j) | i, j >= 1}\\\n",
    "\n",
    "## functions & relations ( f:D→R )\n",
    "**ONTO function or Surjective function**\\\n",
    "function that uses all elements of the range is said to be onto the range.\\\n",
    "surjective ![alt surjective](./theory-of-computation/surjective.png)\n",
    "not surjective ![alt non surjective](./theory-of-computation/not_surjective.png)\n",
    "\n",
    "\n",
    "the → is called **codomain** (set of destination of function)\n"
   ]
  },
  {
   "cell_type": "markdown",
   "metadata": {},
   "source": []
  },
  {
   "cell_type": "code",
   "execution_count": null,
   "metadata": {},
   "outputs": [],
   "source": []
  }
 ],
 "metadata": {
  "kernelspec": {
   "display_name": "Python 3",
   "language": "python",
   "name": "python3"
  },
  "language_info": {
   "codemirror_mode": {
    "name": "ipython",
    "version": 3
   },
   "file_extension": ".py",
   "mimetype": "text/x-python",
   "name": "python",
   "nbconvert_exporter": "python",
   "pygments_lexer": "ipython3",
   "version": "3.11.1"
  },
  "orig_nbformat": 4,
  "vscode": {
   "interpreter": {
    "hash": "dccdef981ea0c14539441bb956e1135b61caf6a1d0bde2a70812373c25fcd244"
   }
  }
 },
 "nbformat": 4,
 "nbformat_minor": 2
}
