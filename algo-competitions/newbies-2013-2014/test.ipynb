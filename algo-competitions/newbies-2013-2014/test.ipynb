{
 "cells": [
  {
   "cell_type": "code",
   "execution_count": 4,
   "metadata": {},
   "outputs": [],
   "source": [
    "# from string import ascii_uppercase\n",
    "# for i in range(10):\n",
    "#     with open(f\"{ascii_uppercase[i]}.py\",\"x\") as fin:\n",
    "#         fin.write(\"t = int(input())\\nfor i in range(t):\\n\\t\")\n",
    "    \n",
    "    "
   ]
  },
  {
   "cell_type": "code",
   "execution_count": null,
   "metadata": {},
   "outputs": [],
   "source": []
  },
  {
   "cell_type": "code",
   "execution_count": null,
   "metadata": {},
   "outputs": [],
   "source": []
  }
 ],
 "metadata": {
  "kernelspec": {
   "display_name": "Python 3",
   "language": "python",
   "name": "python3"
  },
  "language_info": {
   "codemirror_mode": {
    "name": "ipython",
    "version": 3
   },
   "file_extension": ".py",
   "mimetype": "text/x-python",
   "name": "python",
   "nbconvert_exporter": "python",
   "pygments_lexer": "ipython3",
   "version": "3.11.1"
  },
  "orig_nbformat": 4,
  "vscode": {
   "interpreter": {
    "hash": "dccdef981ea0c14539441bb956e1135b61caf6a1d0bde2a70812373c25fcd244"
   }
  }
 },
 "nbformat": 4,
 "nbformat_minor": 2
}
